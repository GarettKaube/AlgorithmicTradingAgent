{
 "cells": [
  {
   "cell_type": "code",
   "execution_count": 7,
   "metadata": {},
   "outputs": [],
   "source": [
    "import boto3\n",
    "import json\n",
    "import pandas as pd\n",
    "\n",
    "sqs = boto3.client('sqs', region_name='us-west-1')  # specify your AWS region\n",
    "\n",
    "# Specify your queue URL\n",
    "queue_url = 'https://sqs.us-west-1.amazonaws.com/390402566290/FinPredictionQueue'"
   ]
  },
  {
   "cell_type": "code",
   "execution_count": 3,
   "metadata": {},
   "outputs": [
    {
     "ename": "ModuleNotFoundError",
     "evalue": "No module named 'yo_airflow'",
     "output_type": "error",
     "traceback": [
      "\u001b[1;31m---------------------------------------------------------------------------\u001b[0m",
      "\u001b[1;31mModuleNotFoundError\u001b[0m                       Traceback (most recent call last)",
      "Cell \u001b[1;32mIn[3], line 1\u001b[0m\n\u001b[1;32m----> 1\u001b[0m \u001b[38;5;28;01mfrom\u001b[39;00m \u001b[38;5;21;01myo_airflow\u001b[39;00m\u001b[38;5;21;01m.\u001b[39;00m\u001b[38;5;21;01mdags\u001b[39;00m\u001b[38;5;21;01m.\u001b[39;00m\u001b[38;5;21;01mscripts\u001b[39;00m\u001b[38;5;21;01m.\u001b[39;00m\u001b[38;5;21;01mconnections\u001b[39;00m \u001b[38;5;28;01mimport\u001b[39;00m connect_to_snowflake\n",
      "\u001b[1;31mModuleNotFoundError\u001b[0m: No module named 'yo_airflow'"
     ]
    }
   ],
   "source": [
    "from yo_airflow.dags.scripts.connections import connect_to_snowflake"
   ]
  },
  {
   "cell_type": "code",
   "execution_count": 15,
   "metadata": {},
   "outputs": [
    {
     "data": {
      "text/plain": [
       "(2557, 6)"
      ]
     },
     "execution_count": 15,
     "metadata": {},
     "output_type": "execute_result"
    }
   ],
   "source": [
    "raw_eth.shape"
   ]
  },
  {
   "cell_type": "code",
   "execution_count": 34,
   "metadata": {},
   "outputs": [
    {
     "name": "stdout",
     "output_type": "stream",
     "text": [
      "Message ID: 5f35ae75-6b57-4b1a-8764-b4b62329347a\n"
     ]
    }
   ],
   "source": [
    "prediction_data = {\"direction\": {\"2024-11-06\": 0}, \n",
    "                   \"confidence\": {\"2024-11-06\": 0.587427020072937}, \n",
    "                   \"date\": \"2024-11-06\",\n",
    "                   \"mu\":0,\n",
    "                   \"std\":0,\n",
    "                   \"spread\":0.5}\n",
    "\n",
    "\n",
    "response = sqs.send_message(\n",
    "    QueueUrl=queue_url,\n",
    "    MessageBody=json.dumps(prediction_data),  # this can be a string or JSON\n",
    "    # Optional: Add any metadata or attributes\n",
    "    MessageAttributes={\n",
    "        'AttributeKey': {\n",
    "            'StringValue': 'AttributeValue',\n",
    "            'DataType': 'String'\n",
    "        }\n",
    "    }\n",
    ")\n",
    "\n",
    "# Print the response to verify\n",
    "print(\"Message ID:\", response['MessageId'])"
   ]
  }
 ],
 "metadata": {
  "kernelspec": {
   "display_name": "pipeline2",
   "language": "python",
   "name": "python3"
  },
  "language_info": {
   "codemirror_mode": {
    "name": "ipython",
    "version": 3
   },
   "file_extension": ".py",
   "mimetype": "text/x-python",
   "name": "python",
   "nbconvert_exporter": "python",
   "pygments_lexer": "ipython3",
   "version": "3.11.9"
  }
 },
 "nbformat": 4,
 "nbformat_minor": 2
}
