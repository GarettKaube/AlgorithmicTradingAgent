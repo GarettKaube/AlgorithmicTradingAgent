{
 "cells": [
  {
   "cell_type": "code",
   "execution_count": 11,
   "metadata": {},
   "outputs": [
    {
     "ename": "ModuleNotFoundError",
     "evalue": "No module named 'yo_airflow'",
     "output_type": "error",
     "traceback": [
      "\u001b[1;31m---------------------------------------------------------------------------\u001b[0m",
      "\u001b[1;31mModuleNotFoundError\u001b[0m                       Traceback (most recent call last)",
      "Cell \u001b[1;32mIn[11], line 1\u001b[0m\n\u001b[1;32m----> 1\u001b[0m \u001b[38;5;28;01mimport\u001b[39;00m \u001b[38;5;21;01myo_airflow\u001b[39;00m\u001b[38;5;21;01m.\u001b[39;00m\u001b[38;5;21;01mdags\u001b[39;00m\n",
      "\u001b[1;31mModuleNotFoundError\u001b[0m: No module named 'yo_airflow'"
     ]
    }
   ],
   "source": [
    "import yo_airflow.dags"
   ]
  },
  {
   "cell_type": "code",
   "execution_count": 8,
   "metadata": {},
   "outputs": [
    {
     "data": {
      "text/plain": [
       "datetime.date(2010, 1, 1)"
      ]
     },
     "execution_count": 8,
     "metadata": {},
     "output_type": "execute_result"
    }
   ],
   "source": [
    "pd.to_datetime(\"2010-01-01\").date()"
   ]
  },
  {
   "cell_type": "code",
   "execution_count": 7,
   "metadata": {},
   "outputs": [
    {
     "data": {
      "text/plain": [
       "0    2019-12-20\n",
       "1    2019-12-21\n",
       "2    2019-12-22\n",
       "3    2019-12-23\n",
       "4    2019-12-24\n",
       "5    2019-12-25\n",
       "6    2019-12-26\n",
       "7    2019-12-27\n",
       "8    2019-12-28\n",
       "9    2019-12-29\n",
       "10   2019-12-30\n",
       "11   2019-12-31\n",
       "12   2019-12-20\n",
       "13   2019-12-21\n",
       "14   2019-12-22\n",
       "15   2019-12-23\n",
       "16   2019-12-24\n",
       "17   2019-12-25\n",
       "18   2019-12-26\n",
       "19   2019-12-27\n",
       "20   2019-12-28\n",
       "21   2019-12-29\n",
       "22   2019-12-30\n",
       "23   2019-12-31\n",
       "dtype: datetime64[ns]"
      ]
     },
     "execution_count": 7,
     "metadata": {},
     "output_type": "execute_result"
    }
   ],
   "source": [
    "import pandas as pd \n",
    "yo = pd.Series(pd.date_range(start=\"2019-12-20\", end=\"2019-12-31\"))\n",
    "\n",
    "pd.concat([yo, yo]).reset_index(drop=True)"
   ]
  },
  {
   "cell_type": "code",
   "execution_count": null,
   "metadata": {},
   "outputs": [],
   "source": []
  }
 ],
 "metadata": {
  "kernelspec": {
   "display_name": "pipeline2",
   "language": "python",
   "name": "python3"
  },
  "language_info": {
   "codemirror_mode": {
    "name": "ipython",
    "version": 3
   },
   "file_extension": ".py",
   "mimetype": "text/x-python",
   "name": "python",
   "nbconvert_exporter": "python",
   "pygments_lexer": "ipython3",
   "version": "3.11.9"
  }
 },
 "nbformat": 4,
 "nbformat_minor": 2
}
